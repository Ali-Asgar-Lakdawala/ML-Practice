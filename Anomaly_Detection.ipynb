{
  "nbformat": 4,
  "nbformat_minor": 0,
  "metadata": {
    "colab": {
      "name": " Anomaly Detection.ipynb",
      "provenance": [],
      "collapsed_sections": [],
      "include_colab_link": true
    },
    "kernelspec": {
      "display_name": "Python 3",
      "language": "python",
      "name": "python3"
    },
    "language_info": {
      "codemirror_mode": {
        "name": "ipython",
        "version": 3
      },
      "file_extension": ".py",
      "mimetype": "text/x-python",
      "name": "python",
      "nbconvert_exporter": "python",
      "pygments_lexer": "ipython3",
      "version": "3.7.1"
    }
  },
  "cells": [
    {
      "cell_type": "markdown",
      "metadata": {
        "id": "view-in-github",
        "colab_type": "text"
      },
      "source": [
        "<a href=\"https://colab.research.google.com/github/Ali-Asgar-Lakdawala/ML-Practice/blob/main/Anomaly_Detection.ipynb\" target=\"_parent\"><img src=\"https://colab.research.google.com/assets/colab-badge.svg\" alt=\"Open In Colab\"/></a>"
      ]
    },
    {
      "cell_type": "markdown",
      "metadata": {
        "id": "HsGlbrvu9Xa3"
      },
      "source": [
        "# Perform univariate and multivariate anomaly detection on the `Sales` and `Profit` columns of the Superstore dataset.\n",
        "\n",
        "* Use the `Local Outlier Factor` algorithm.\n",
        "* Write in detail how this algorithm helps us in detecting anomalies.\n",
        "\n",
        "[Resource](https://scikit-learn.org/stable/modules/outlier_detection.html)\n",
        "\n",
        "\n"
      ]
    },
    {
      "cell_type": "code",
      "metadata": {
        "id": "Qr01ic1eA-q0"
      },
      "source": [
        "import pandas as pd\n",
        "import numpy as np \n",
        "import matplotlib.pyplot as plt\n",
        "from sklearn.neighbors import LocalOutlierFactor"
      ],
      "execution_count": 9,
      "outputs": []
    },
    {
      "cell_type": "code",
      "metadata": {
        "id": "fYKtaMws4J41"
      },
      "source": [
        "df=pd.read_excel('https://github.com/Ali-Asgar-Lakdawala/ML-Practice/blob/main/Data/Superstore.xls?raw=true')"
      ],
      "execution_count": 3,
      "outputs": []
    },
    {
      "cell_type": "code",
      "metadata": {
        "id": "x6UeltxU4Yl5"
      },
      "source": [
        "df=df[['Sales', 'Quantity', 'Discount', 'Profit']]"
      ],
      "execution_count": 8,
      "outputs": []
    },
    {
      "cell_type": "code",
      "metadata": {
        "colab": {
          "base_uri": "https://localhost:8080/"
        },
        "id": "cz1jkAJI4ZCw",
        "outputId": "b1cb4e4d-95e3-4c28-9ff4-6e2f0f0c6e6c"
      },
      "source": [
        "# fit the model for outlier detection (default)\n",
        "clf = LocalOutlierFactor(n_neighbors=10, contamination=0.1)\n",
        "df['outlier_univariate_sales']  = clf.fit_predict(df['Sales'].values.reshape(-1, 1))\n",
        "df['anomaly_score_univariate_sales'] = clf.negative_outlier_factor_"
      ],
      "execution_count": 46,
      "outputs": [
        {
          "output_type": "stream",
          "name": "stderr",
          "text": [
            "/usr/local/lib/python3.7/dist-packages/ipykernel_launcher.py:3: SettingWithCopyWarning: \n",
            "A value is trying to be set on a copy of a slice from a DataFrame.\n",
            "Try using .loc[row_indexer,col_indexer] = value instead\n",
            "\n",
            "See the caveats in the documentation: https://pandas.pydata.org/pandas-docs/stable/user_guide/indexing.html#returning-a-view-versus-a-copy\n",
            "  This is separate from the ipykernel package so we can avoid doing imports until\n",
            "/usr/local/lib/python3.7/dist-packages/ipykernel_launcher.py:4: SettingWithCopyWarning: \n",
            "A value is trying to be set on a copy of a slice from a DataFrame.\n",
            "Try using .loc[row_indexer,col_indexer] = value instead\n",
            "\n",
            "See the caveats in the documentation: https://pandas.pydata.org/pandas-docs/stable/user_guide/indexing.html#returning-a-view-versus-a-copy\n",
            "  after removing the cwd from sys.path.\n"
          ]
        }
      ]
    },
    {
      "cell_type": "code",
      "metadata": {
        "colab": {
          "base_uri": "https://localhost:8080/"
        },
        "id": "ZlZY8FVZBr1Z",
        "outputId": "8cba960d-a066-4164-c5c3-c124f497734f"
      },
      "source": [
        "# fit the model for outlier detection (default)\n",
        "clf = LocalOutlierFactor(n_neighbors=10, contamination=0.1)\n",
        "df['outlier_univariate_Profit']  = clf.fit_predict(df['Profit'].values.reshape(-1, 1))\n",
        "df['anomaly_score_univariate_Profit'] = clf.negative_outlier_factor_"
      ],
      "execution_count": 49,
      "outputs": [
        {
          "output_type": "stream",
          "name": "stderr",
          "text": [
            "/usr/local/lib/python3.7/dist-packages/ipykernel_launcher.py:3: SettingWithCopyWarning: \n",
            "A value is trying to be set on a copy of a slice from a DataFrame.\n",
            "Try using .loc[row_indexer,col_indexer] = value instead\n",
            "\n",
            "See the caveats in the documentation: https://pandas.pydata.org/pandas-docs/stable/user_guide/indexing.html#returning-a-view-versus-a-copy\n",
            "  This is separate from the ipykernel package so we can avoid doing imports until\n",
            "/usr/local/lib/python3.7/dist-packages/ipykernel_launcher.py:4: SettingWithCopyWarning: \n",
            "A value is trying to be set on a copy of a slice from a DataFrame.\n",
            "Try using .loc[row_indexer,col_indexer] = value instead\n",
            "\n",
            "See the caveats in the documentation: https://pandas.pydata.org/pandas-docs/stable/user_guide/indexing.html#returning-a-view-versus-a-copy\n",
            "  after removing the cwd from sys.path.\n"
          ]
        }
      ]
    },
    {
      "cell_type": "code",
      "metadata": {
        "colab": {
          "base_uri": "https://localhost:8080/"
        },
        "id": "b9dUhSAi7RIf",
        "outputId": "e7ffc5eb-48cc-407a-b614-d5d2906ba62e"
      },
      "source": [
        "df['outlier_univariate_sales'].value_counts()"
      ],
      "execution_count": 47,
      "outputs": [
        {
          "output_type": "execute_result",
          "data": {
            "text/plain": [
              " 1    8994\n",
              "-1    1000\n",
              "Name: outlier_univariate_sales, dtype: int64"
            ]
          },
          "metadata": {},
          "execution_count": 47
        }
      ]
    },
    {
      "cell_type": "code",
      "metadata": {
        "colab": {
          "base_uri": "https://localhost:8080/"
        },
        "id": "uIL6bXY9BzY4",
        "outputId": "0fe4b9b5-07aa-4152-e2d5-8abe527d5aa5"
      },
      "source": [
        "df['outlier_univariate_Profit'].value_counts()"
      ],
      "execution_count": 50,
      "outputs": [
        {
          "output_type": "execute_result",
          "data": {
            "text/plain": [
              " 1    8996\n",
              "-1     998\n",
              "Name: outlier_univariate_Profit, dtype: int64"
            ]
          },
          "metadata": {},
          "execution_count": 50
        }
      ]
    },
    {
      "cell_type": "code",
      "metadata": {
        "colab": {
          "base_uri": "https://localhost:8080/"
        },
        "id": "uP8mq66Q8igc",
        "outputId": "cbd4bc5d-e0a6-4bfe-e31c-3a329ec93a89"
      },
      "source": [
        "# fit the model for outlier detection (default)\n",
        "clf = LocalOutlierFactor(n_neighbors=10, contamination=0.1)\n",
        "df['outlier_mmultiivariate']  = clf.fit_predict(df[['Sales', 'Quantity', 'Discount', 'Profit']])\n",
        "df['anomaly_score_multivariate'] = clf.negative_outlier_factor_"
      ],
      "execution_count": 52,
      "outputs": [
        {
          "output_type": "stream",
          "name": "stderr",
          "text": [
            "/usr/local/lib/python3.7/dist-packages/ipykernel_launcher.py:3: SettingWithCopyWarning: \n",
            "A value is trying to be set on a copy of a slice from a DataFrame.\n",
            "Try using .loc[row_indexer,col_indexer] = value instead\n",
            "\n",
            "See the caveats in the documentation: https://pandas.pydata.org/pandas-docs/stable/user_guide/indexing.html#returning-a-view-versus-a-copy\n",
            "  This is separate from the ipykernel package so we can avoid doing imports until\n",
            "/usr/local/lib/python3.7/dist-packages/ipykernel_launcher.py:4: SettingWithCopyWarning: \n",
            "A value is trying to be set on a copy of a slice from a DataFrame.\n",
            "Try using .loc[row_indexer,col_indexer] = value instead\n",
            "\n",
            "See the caveats in the documentation: https://pandas.pydata.org/pandas-docs/stable/user_guide/indexing.html#returning-a-view-versus-a-copy\n",
            "  after removing the cwd from sys.path.\n"
          ]
        }
      ]
    },
    {
      "cell_type": "code",
      "metadata": {
        "colab": {
          "base_uri": "https://localhost:8080/"
        },
        "id": "lVEgUmcyCUqL",
        "outputId": "4ccdce61-8ac6-4e63-8d8e-9e584cb406cd"
      },
      "source": [
        "df['outlier_mmultiivariate'].value_counts()"
      ],
      "execution_count": 53,
      "outputs": [
        {
          "output_type": "execute_result",
          "data": {
            "text/plain": [
              " 1    8995\n",
              "-1     999\n",
              "Name: outlier_mmultiivariate, dtype: int64"
            ]
          },
          "metadata": {},
          "execution_count": 53
        }
      ]
    },
    {
      "cell_type": "code",
      "metadata": {
        "colab": {
          "base_uri": "https://localhost:8080/",
          "height": 437
        },
        "id": "tr37_k8mCY-s",
        "outputId": "b3c43fdd-57b9-467d-bdb1-ff2ae7549dcf"
      },
      "source": [
        "df[(df['outlier_univariate_sales'] == -1) & (df['outlier_univariate_Profit'] == -1) & (df['outlier_mmultiivariate'] == 1)]"
      ],
      "execution_count": 60,
      "outputs": [
        {
          "output_type": "execute_result",
          "data": {
            "text/html": [
              "<div>\n",
              "<style scoped>\n",
              "    .dataframe tbody tr th:only-of-type {\n",
              "        vertical-align: middle;\n",
              "    }\n",
              "\n",
              "    .dataframe tbody tr th {\n",
              "        vertical-align: top;\n",
              "    }\n",
              "\n",
              "    .dataframe thead th {\n",
              "        text-align: right;\n",
              "    }\n",
              "</style>\n",
              "<table border=\"1\" class=\"dataframe\">\n",
              "  <thead>\n",
              "    <tr style=\"text-align: right;\">\n",
              "      <th></th>\n",
              "      <th>Sales</th>\n",
              "      <th>Quantity</th>\n",
              "      <th>Discount</th>\n",
              "      <th>Profit</th>\n",
              "      <th>outlier_univariate_sales</th>\n",
              "      <th>anomaly_score_univariate_sales</th>\n",
              "      <th>outlier_univariate_Profit</th>\n",
              "      <th>anomaly_score_univariate_Profit</th>\n",
              "      <th>outlier_mmultiivariate</th>\n",
              "      <th>anomaly_score_multivariate</th>\n",
              "    </tr>\n",
              "  </thead>\n",
              "  <tbody>\n",
              "    <tr>\n",
              "      <th>314</th>\n",
              "      <td>178.384</td>\n",
              "      <td>2</td>\n",
              "      <td>0.2</td>\n",
              "      <td>22.2980</td>\n",
              "      <td>-1</td>\n",
              "      <td>-4.034856e+00</td>\n",
              "      <td>-1</td>\n",
              "      <td>-1.386453</td>\n",
              "      <td>1</td>\n",
              "      <td>-1.061948</td>\n",
              "    </tr>\n",
              "    <tr>\n",
              "      <th>477</th>\n",
              "      <td>95.760</td>\n",
              "      <td>6</td>\n",
              "      <td>0.2</td>\n",
              "      <td>7.1820</td>\n",
              "      <td>-1</td>\n",
              "      <td>-2.021137e+00</td>\n",
              "      <td>-1</td>\n",
              "      <td>-1.421098</td>\n",
              "      <td>1</td>\n",
              "      <td>-1.113268</td>\n",
              "    </tr>\n",
              "    <tr>\n",
              "      <th>491</th>\n",
              "      <td>449.150</td>\n",
              "      <td>5</td>\n",
              "      <td>0.0</td>\n",
              "      <td>8.9830</td>\n",
              "      <td>-1</td>\n",
              "      <td>-2.003800e+00</td>\n",
              "      <td>-1</td>\n",
              "      <td>-2.041765</td>\n",
              "      <td>1</td>\n",
              "      <td>-0.984937</td>\n",
              "    </tr>\n",
              "    <tr>\n",
              "      <th>495</th>\n",
              "      <td>105.420</td>\n",
              "      <td>2</td>\n",
              "      <td>0.0</td>\n",
              "      <td>51.6558</td>\n",
              "      <td>-1</td>\n",
              "      <td>-2.003092e+00</td>\n",
              "      <td>-1</td>\n",
              "      <td>-1.627731</td>\n",
              "      <td>1</td>\n",
              "      <td>-1.017121</td>\n",
              "    </tr>\n",
              "    <tr>\n",
              "      <th>593</th>\n",
              "      <td>31.200</td>\n",
              "      <td>3</td>\n",
              "      <td>0.2</td>\n",
              "      <td>9.7500</td>\n",
              "      <td>-1</td>\n",
              "      <td>-2.012181e+00</td>\n",
              "      <td>-1</td>\n",
              "      <td>-1.354288</td>\n",
              "      <td>1</td>\n",
              "      <td>-1.018130</td>\n",
              "    </tr>\n",
              "    <tr>\n",
              "      <th>...</th>\n",
              "      <td>...</td>\n",
              "      <td>...</td>\n",
              "      <td>...</td>\n",
              "      <td>...</td>\n",
              "      <td>...</td>\n",
              "      <td>...</td>\n",
              "      <td>...</td>\n",
              "      <td>...</td>\n",
              "      <td>...</td>\n",
              "      <td>...</td>\n",
              "    </tr>\n",
              "    <tr>\n",
              "      <th>9282</th>\n",
              "      <td>72.224</td>\n",
              "      <td>4</td>\n",
              "      <td>0.2</td>\n",
              "      <td>25.2784</td>\n",
              "      <td>-1</td>\n",
              "      <td>-1.902650e+01</td>\n",
              "      <td>-1</td>\n",
              "      <td>-3.064366</td>\n",
              "      <td>1</td>\n",
              "      <td>-0.984231</td>\n",
              "    </tr>\n",
              "    <tr>\n",
              "      <th>9372</th>\n",
              "      <td>8.040</td>\n",
              "      <td>5</td>\n",
              "      <td>0.2</td>\n",
              "      <td>2.9145</td>\n",
              "      <td>-1</td>\n",
              "      <td>-1.724902e+00</td>\n",
              "      <td>-1</td>\n",
              "      <td>-3.003036</td>\n",
              "      <td>1</td>\n",
              "      <td>-0.981587</td>\n",
              "    </tr>\n",
              "    <tr>\n",
              "      <th>9386</th>\n",
              "      <td>79.920</td>\n",
              "      <td>4</td>\n",
              "      <td>0.0</td>\n",
              "      <td>37.5624</td>\n",
              "      <td>-1</td>\n",
              "      <td>-1.659028e+00</td>\n",
              "      <td>-1</td>\n",
              "      <td>-3.080543</td>\n",
              "      <td>1</td>\n",
              "      <td>-0.965995</td>\n",
              "    </tr>\n",
              "    <tr>\n",
              "      <th>9400</th>\n",
              "      <td>31.120</td>\n",
              "      <td>4</td>\n",
              "      <td>0.0</td>\n",
              "      <td>14.6264</td>\n",
              "      <td>-1</td>\n",
              "      <td>-1.344000e+08</td>\n",
              "      <td>-1</td>\n",
              "      <td>-1.337232</td>\n",
              "      <td>1</td>\n",
              "      <td>-0.997685</td>\n",
              "    </tr>\n",
              "    <tr>\n",
              "      <th>9730</th>\n",
              "      <td>807.750</td>\n",
              "      <td>5</td>\n",
              "      <td>0.0</td>\n",
              "      <td>153.4725</td>\n",
              "      <td>-1</td>\n",
              "      <td>-2.613755e+00</td>\n",
              "      <td>-1</td>\n",
              "      <td>-1.380929</td>\n",
              "      <td>1</td>\n",
              "      <td>-1.152776</td>\n",
              "    </tr>\n",
              "  </tbody>\n",
              "</table>\n",
              "<p>96 rows × 10 columns</p>\n",
              "</div>"
            ],
            "text/plain": [
              "        Sales  Quantity  ...  outlier_mmultiivariate  anomaly_score_multivariate\n",
              "314   178.384         2  ...                       1                   -1.061948\n",
              "477    95.760         6  ...                       1                   -1.113268\n",
              "491   449.150         5  ...                       1                   -0.984937\n",
              "495   105.420         2  ...                       1                   -1.017121\n",
              "593    31.200         3  ...                       1                   -1.018130\n",
              "...       ...       ...  ...                     ...                         ...\n",
              "9282   72.224         4  ...                       1                   -0.984231\n",
              "9372    8.040         5  ...                       1                   -0.981587\n",
              "9386   79.920         4  ...                       1                   -0.965995\n",
              "9400   31.120         4  ...                       1                   -0.997685\n",
              "9730  807.750         5  ...                       1                   -1.152776\n",
              "\n",
              "[96 rows x 10 columns]"
            ]
          },
          "metadata": {},
          "execution_count": 60
        }
      ]
    },
    {
      "cell_type": "code",
      "metadata": {
        "id": "uzmEXLLDCtac"
      },
      "source": [
        ""
      ],
      "execution_count": null,
      "outputs": []
    }
  ]
}